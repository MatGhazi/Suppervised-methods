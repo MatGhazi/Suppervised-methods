{
 "cells": [
  {
   "cell_type": "code",
   "execution_count": 2,
   "id": "e036e869",
   "metadata": {},
   "outputs": [],
   "source": [
    "#Import python packages\n",
    "import numpy as np \n",
    "import pandas as pd \n",
    "import seaborn as sns\n",
    "import matplotlib.pyplot as plt\n",
    "from sklearn.model_selection import train_test_split # Import train_test_split function\n",
    "from sklearn.neighbors import KNeighborsClassifier\n",
    "from sklearn import metrics #Import scikit-learn metrics module for accuracy calculation\n",
    "from sklearn.metrics import precision_score, recall_score, confusion_matrix, classification_report\n",
    "from sklearn.model_selection import GridSearchCV\n",
    "# from matplotlib.cm import rainbow\n",
    "\n",
    "# from sklearn import preprocessing\n",
    "from sklearn.preprocessing import StandardScaler"
   ]
  },
  {
   "cell_type": "code",
   "execution_count": 3,
   "id": "adfbaae4",
   "metadata": {},
   "outputs": [
    {
     "data": {
      "text/html": [
       "<div>\n",
       "<style scoped>\n",
       "    .dataframe tbody tr th:only-of-type {\n",
       "        vertical-align: middle;\n",
       "    }\n",
       "\n",
       "    .dataframe tbody tr th {\n",
       "        vertical-align: top;\n",
       "    }\n",
       "\n",
       "    .dataframe thead th {\n",
       "        text-align: right;\n",
       "    }\n",
       "</style>\n",
       "<table border=\"1\" class=\"dataframe\">\n",
       "  <thead>\n",
       "    <tr style=\"text-align: right;\">\n",
       "      <th></th>\n",
       "      <th>age</th>\n",
       "      <th>sex</th>\n",
       "      <th>cp</th>\n",
       "      <th>trestbps</th>\n",
       "      <th>chol</th>\n",
       "      <th>fbs</th>\n",
       "      <th>restecg</th>\n",
       "      <th>thalach</th>\n",
       "      <th>exang</th>\n",
       "      <th>oldpeak</th>\n",
       "      <th>slope</th>\n",
       "      <th>ca</th>\n",
       "      <th>thal</th>\n",
       "      <th>target</th>\n",
       "    </tr>\n",
       "  </thead>\n",
       "  <tbody>\n",
       "    <tr>\n",
       "      <th>0</th>\n",
       "      <td>63</td>\n",
       "      <td>1</td>\n",
       "      <td>3</td>\n",
       "      <td>145</td>\n",
       "      <td>233</td>\n",
       "      <td>1</td>\n",
       "      <td>0</td>\n",
       "      <td>150</td>\n",
       "      <td>0</td>\n",
       "      <td>2.3</td>\n",
       "      <td>0</td>\n",
       "      <td>0</td>\n",
       "      <td>1</td>\n",
       "      <td>1</td>\n",
       "    </tr>\n",
       "    <tr>\n",
       "      <th>1</th>\n",
       "      <td>37</td>\n",
       "      <td>1</td>\n",
       "      <td>2</td>\n",
       "      <td>130</td>\n",
       "      <td>250</td>\n",
       "      <td>0</td>\n",
       "      <td>1</td>\n",
       "      <td>187</td>\n",
       "      <td>0</td>\n",
       "      <td>3.5</td>\n",
       "      <td>0</td>\n",
       "      <td>0</td>\n",
       "      <td>2</td>\n",
       "      <td>1</td>\n",
       "    </tr>\n",
       "    <tr>\n",
       "      <th>2</th>\n",
       "      <td>41</td>\n",
       "      <td>0</td>\n",
       "      <td>1</td>\n",
       "      <td>130</td>\n",
       "      <td>204</td>\n",
       "      <td>0</td>\n",
       "      <td>0</td>\n",
       "      <td>172</td>\n",
       "      <td>0</td>\n",
       "      <td>1.4</td>\n",
       "      <td>2</td>\n",
       "      <td>0</td>\n",
       "      <td>2</td>\n",
       "      <td>1</td>\n",
       "    </tr>\n",
       "    <tr>\n",
       "      <th>3</th>\n",
       "      <td>56</td>\n",
       "      <td>1</td>\n",
       "      <td>1</td>\n",
       "      <td>120</td>\n",
       "      <td>236</td>\n",
       "      <td>0</td>\n",
       "      <td>1</td>\n",
       "      <td>178</td>\n",
       "      <td>0</td>\n",
       "      <td>0.8</td>\n",
       "      <td>2</td>\n",
       "      <td>0</td>\n",
       "      <td>2</td>\n",
       "      <td>1</td>\n",
       "    </tr>\n",
       "    <tr>\n",
       "      <th>4</th>\n",
       "      <td>57</td>\n",
       "      <td>0</td>\n",
       "      <td>0</td>\n",
       "      <td>120</td>\n",
       "      <td>354</td>\n",
       "      <td>0</td>\n",
       "      <td>1</td>\n",
       "      <td>163</td>\n",
       "      <td>1</td>\n",
       "      <td>0.6</td>\n",
       "      <td>2</td>\n",
       "      <td>0</td>\n",
       "      <td>2</td>\n",
       "      <td>1</td>\n",
       "    </tr>\n",
       "  </tbody>\n",
       "</table>\n",
       "</div>"
      ],
      "text/plain": [
       "   age  sex  cp  trestbps  chol  fbs  restecg  thalach  exang  oldpeak  slope  \\\n",
       "0   63    1   3       145   233    1        0      150      0      2.3      0   \n",
       "1   37    1   2       130   250    0        1      187      0      3.5      0   \n",
       "2   41    0   1       130   204    0        0      172      0      1.4      2   \n",
       "3   56    1   1       120   236    0        1      178      0      0.8      2   \n",
       "4   57    0   0       120   354    0        1      163      1      0.6      2   \n",
       "\n",
       "   ca  thal  target  \n",
       "0   0     1       1  \n",
       "1   0     2       1  \n",
       "2   0     2       1  \n",
       "3   0     2       1  \n",
       "4   0     2       1  "
      ]
     },
     "execution_count": 3,
     "metadata": {},
     "output_type": "execute_result"
    }
   ],
   "source": [
    "df = pd.read_csv(\"numeric_heart.csv\")\n",
    "df.head()"
   ]
  },
  {
   "cell_type": "code",
   "execution_count": 4,
   "id": "6717b034",
   "metadata": {},
   "outputs": [
    {
     "name": "stdout",
     "output_type": "stream",
     "text": [
      "(303, 13)\n",
      "(303,)\n"
     ]
    }
   ],
   "source": [
    "X = df.drop(columns=['target'])\n",
    "y = df['target']\n",
    "print(X.shape)\n",
    "print(y.shape)"
   ]
  },
  {
   "cell_type": "code",
   "execution_count": 5,
   "id": "bc9d11e7",
   "metadata": {},
   "outputs": [
    {
     "data": {
      "image/png": "[encoded data removed]",
      "text/plain": [
       "<Figure size 432x288 with 1 Axes>"
      ]
     },
     "metadata": {
      "needs_background": "light"
     },
     "output_type": "display_data"
    }
   ],
   "source": [
    "sns.countplot(x=\"target\", data=df, palette=\"bwr\")\n",
    "plt.show()"
   ]
  },
  {
   "cell_type": "code",
   "execution_count": 6,
   "id": "d2b33ffe",
   "metadata": {},
   "outputs": [
    {
     "data": {
      "text/html": [
       "<div>\n",
       "<style scoped>\n",
       "    .dataframe tbody tr th:only-of-type {\n",
       "        vertical-align: middle;\n",
       "    }\n",
       "\n",
       "    .dataframe tbody tr th {\n",
       "        vertical-align: top;\n",
       "    }\n",
       "\n",
       "    .dataframe thead th {\n",
       "        text-align: right;\n",
       "    }\n",
       "</style>\n",
       "<table border=\"1\" class=\"dataframe\">\n",
       "  <thead>\n",
       "    <tr style=\"text-align: right;\">\n",
       "      <th></th>\n",
       "      <th>count</th>\n",
       "      <th>mean</th>\n",
       "      <th>std</th>\n",
       "      <th>min</th>\n",
       "      <th>25%</th>\n",
       "      <th>50%</th>\n",
       "      <th>75%</th>\n",
       "      <th>max</th>\n",
       "    </tr>\n",
       "  </thead>\n",
       "  <tbody>\n",
       "    <tr>\n",
       "      <th>age</th>\n",
       "      <td>303.0</td>\n",
       "      <td>4.690051e-17</td>\n",
       "      <td>1.001654</td>\n",
       "      <td>-2.797624</td>\n",
       "      <td>-0.757280</td>\n",
       "      <td>0.069886</td>\n",
       "      <td>0.731619</td>\n",
       "      <td>2.496240</td>\n",
       "    </tr>\n",
       "    <tr>\n",
       "      <th>sex</th>\n",
       "      <td>303.0</td>\n",
       "      <td>-1.407015e-16</td>\n",
       "      <td>1.001654</td>\n",
       "      <td>-1.468418</td>\n",
       "      <td>-1.468418</td>\n",
       "      <td>0.681005</td>\n",
       "      <td>0.681005</td>\n",
       "      <td>0.681005</td>\n",
       "    </tr>\n",
       "    <tr>\n",
       "      <th>cp</th>\n",
       "      <td>303.0</td>\n",
       "      <td>2.345026e-17</td>\n",
       "      <td>1.001654</td>\n",
       "      <td>-0.938515</td>\n",
       "      <td>-0.938515</td>\n",
       "      <td>0.032031</td>\n",
       "      <td>1.002577</td>\n",
       "      <td>1.973123</td>\n",
       "    </tr>\n",
       "    <tr>\n",
       "      <th>trestbps</th>\n",
       "      <td>303.0</td>\n",
       "      <td>-7.035077e-16</td>\n",
       "      <td>1.001654</td>\n",
       "      <td>-2.148802</td>\n",
       "      <td>-0.663867</td>\n",
       "      <td>-0.092738</td>\n",
       "      <td>0.478391</td>\n",
       "      <td>3.905165</td>\n",
       "    </tr>\n",
       "    <tr>\n",
       "      <th>chol</th>\n",
       "      <td>303.0</td>\n",
       "      <td>-1.113887e-16</td>\n",
       "      <td>1.001654</td>\n",
       "      <td>-2.324160</td>\n",
       "      <td>-0.681494</td>\n",
       "      <td>-0.121055</td>\n",
       "      <td>0.545674</td>\n",
       "      <td>6.140401</td>\n",
       "    </tr>\n",
       "    <tr>\n",
       "      <th>fbs</th>\n",
       "      <td>303.0</td>\n",
       "      <td>-2.345026e-17</td>\n",
       "      <td>1.001654</td>\n",
       "      <td>-0.417635</td>\n",
       "      <td>-0.417635</td>\n",
       "      <td>-0.417635</td>\n",
       "      <td>-0.417635</td>\n",
       "      <td>2.394438</td>\n",
       "    </tr>\n",
       "    <tr>\n",
       "      <th>restecg</th>\n",
       "      <td>303.0</td>\n",
       "      <td>1.465641e-16</td>\n",
       "      <td>1.001654</td>\n",
       "      <td>-1.005832</td>\n",
       "      <td>-1.005832</td>\n",
       "      <td>0.898962</td>\n",
       "      <td>0.898962</td>\n",
       "      <td>2.803756</td>\n",
       "    </tr>\n",
       "    <tr>\n",
       "      <th>thalach</th>\n",
       "      <td>303.0</td>\n",
       "      <td>-6.800574e-16</td>\n",
       "      <td>1.001654</td>\n",
       "      <td>-3.439267</td>\n",
       "      <td>-0.706111</td>\n",
       "      <td>0.146634</td>\n",
       "      <td>0.715131</td>\n",
       "      <td>2.289429</td>\n",
       "    </tr>\n",
       "    <tr>\n",
       "      <th>exang</th>\n",
       "      <td>303.0</td>\n",
       "      <td>-4.690051e-17</td>\n",
       "      <td>1.001654</td>\n",
       "      <td>-0.696631</td>\n",
       "      <td>-0.696631</td>\n",
       "      <td>-0.696631</td>\n",
       "      <td>1.435481</td>\n",
       "      <td>1.435481</td>\n",
       "    </tr>\n",
       "    <tr>\n",
       "      <th>oldpeak</th>\n",
       "      <td>303.0</td>\n",
       "      <td>2.345026e-17</td>\n",
       "      <td>1.001654</td>\n",
       "      <td>-0.896862</td>\n",
       "      <td>-0.896862</td>\n",
       "      <td>-0.206705</td>\n",
       "      <td>0.483451</td>\n",
       "      <td>4.451851</td>\n",
       "    </tr>\n",
       "    <tr>\n",
       "      <th>slope</th>\n",
       "      <td>303.0</td>\n",
       "      <td>-1.407015e-16</td>\n",
       "      <td>1.001654</td>\n",
       "      <td>-2.274579</td>\n",
       "      <td>-0.649113</td>\n",
       "      <td>-0.649113</td>\n",
       "      <td>0.976352</td>\n",
       "      <td>0.976352</td>\n",
       "    </tr>\n",
       "    <tr>\n",
       "      <th>ca</th>\n",
       "      <td>303.0</td>\n",
       "      <td>-2.345026e-17</td>\n",
       "      <td>1.001654</td>\n",
       "      <td>-0.714429</td>\n",
       "      <td>-0.714429</td>\n",
       "      <td>-0.714429</td>\n",
       "      <td>0.265082</td>\n",
       "      <td>3.203615</td>\n",
       "    </tr>\n",
       "    <tr>\n",
       "      <th>thal</th>\n",
       "      <td>303.0</td>\n",
       "      <td>-1.641518e-16</td>\n",
       "      <td>1.001654</td>\n",
       "      <td>-3.784824</td>\n",
       "      <td>-0.512922</td>\n",
       "      <td>-0.512922</td>\n",
       "      <td>1.123029</td>\n",
       "      <td>1.123029</td>\n",
       "    </tr>\n",
       "  </tbody>\n",
       "</table>\n",
       "</div>"
      ],
      "text/plain": [
       "          count          mean       std       min       25%       50%  \\\n",
       "age       303.0  4.690051e-17  1.001654 -2.797624 -0.757280  0.069886   \n",
       "sex       303.0 -1.407015e-16  1.001654 -1.468418 -1.468418  0.681005   \n",
       "cp        303.0  2.345026e-17  1.001654 -0.938515 -0.938515  0.032031   \n",
       "trestbps  303.0 -7.035077e-16  1.001654 -2.148802 -0.663867 -0.092738   \n",
       "chol      303.0 -1.113887e-16  1.001654 -2.324160 -0.681494 -0.121055   \n",
       "fbs       303.0 -2.345026e-17  1.001654 -0.417635 -0.417635 -0.417635   \n",
       "restecg   303.0  1.465641e-16  1.001654 -1.005832 -1.005832  0.898962   \n",
       "thalach   303.0 -6.800574e-16  1.001654 -3.439267 -0.706111  0.146634   \n",
       "exang     303.0 -4.690051e-17  1.001654 -0.696631 -0.696631 -0.696631   \n",
       "oldpeak   303.0  2.345026e-17  1.001654 -0.896862 -0.896862 -0.206705   \n",
       "slope     303.0 -1.407015e-16  1.001654 -2.274579 -0.649113 -0.649113   \n",
       "ca        303.0 -2.345026e-17  1.001654 -0.714429 -0.714429 -0.714429   \n",
       "thal      303.0 -1.641518e-16  1.001654 -3.784824 -0.512922 -0.512922   \n",
       "\n",
       "               75%       max  \n",
       "age       0.731619  2.496240  \n",
       "sex       0.681005  0.681005  \n",
       "cp        1.002577  1.973123  \n",
       "trestbps  0.478391  3.905165  \n",
       "chol      0.545674  6.140401  \n",
       "fbs      -0.417635  2.394438  \n",
       "restecg   0.898962  2.803756  \n",
       "thalach   0.715131  2.289429  \n",
       "exang     1.435481  1.435481  \n",
       "oldpeak   0.483451  4.451851  \n",
       "slope     0.976352  0.976352  \n",
       "ca        0.265082  3.203615  \n",
       "thal      1.123029  1.123029  "
      ]
     },
     "execution_count": 6,
     "metadata": {},
     "output_type": "execute_result"
    }
   ],
   "source": [
    "col_names = list(X.columns)\n",
    "s_scaler = StandardScaler()\n",
    "X_scaled= s_scaler.fit_transform(X)\n",
    "\n",
    "X_scaled = pd.DataFrame(X_scaled, columns=col_names)   \n",
    "X_scaled.describe().T"
   ]
  },
  {
   "cell_type": "code",
   "execution_count": 7,
   "id": "9ee35087",
   "metadata": {},
   "outputs": [
    {
     "name": "stdout",
     "output_type": "stream",
     "text": [
      "(227, 13)\n",
      "(76, 13)\n"
     ]
    }
   ],
   "source": [
    "# Split Data to Train and Test\n",
    "x_train,x_test,y_train,y_test = train_test_split(X_scaled,y,stratify=y)\n",
    "print(x_train.shape)\n",
    "print(x_test.shape)"
   ]
  },
  {
   "cell_type": "code",
   "execution_count": 8,
   "id": "41d703c6",
   "metadata": {},
   "outputs": [
    {
     "name": "stdout",
     "output_type": "stream",
     "text": [
      "Accuracy: 0.76\n",
      "              precision    recall  f1-score   support\n",
      "\n",
      "           0       0.76      0.71      0.74        35\n",
      "           1       0.77      0.80      0.79        41\n",
      "\n",
      "    accuracy                           0.76        76\n",
      "   macro avg       0.76      0.76      0.76        76\n",
      "weighted avg       0.76      0.76      0.76        76\n",
      "\n"
     ]
    },
    {
     "data": {
      "image/png": "[encoded data removed]",
      "text/plain": [
       "<Figure size 432x288 with 2 Axes>"
      ]
     },
     "metadata": {
      "needs_background": "light"
     },
     "output_type": "display_data"
    }
   ],
   "source": [
    "classifier = KNeighborsClassifier(n_neighbors = 5, metric = 'minkowski', p = 2)\n",
    "classifier = classifier.fit(x_train,y_train)\n",
    "\n",
    "y_pred = classifier.predict(x_test)\n",
    "#check accuracy\n",
    "\n",
    "accuracy = metrics.accuracy_score(y_test, y_pred)\n",
    "print('Accuracy: {:.2f}'.format(accuracy))\n",
    "\n",
    "#confusion matrix\n",
    "\n",
    "cm = confusion_matrix(y_test, y_pred)\n",
    "cm\n",
    "\n",
    "sns.heatmap(cm,annot=True,cmap='winter',linewidths=0.3,\n",
    "linecolor='black',annot_kws={\"size\":20})\n",
    "\n",
    "print (classification_report(y_test, y_pred))"
   ]
  },
  {
   "cell_type": "markdown",
   "id": "cfa543c4",
   "metadata": {},
   "source": [
    "# What is the Right Value of K?"
   ]
  },
  {
   "cell_type": "markdown",
   "id": "56ef34df",
   "metadata": {},
   "source": [
    "K in KNN, is the number of nearest neighbors to examine. It is supposed to be specified by the user. So, how can we choose right value for K? The general solution is to reserve a part of your data for testing the accuracy of the model. Then choose k =1, use the training part for modeling, and calculate the accuracy of prediction using all samples in your test set. Repeat this process, increasing the k, and see which k is the best for your model.\n",
    "\n",
    "We can calculate the accuracy of KNN for different values of k. The selection of the proper value of k that is changing the distance measure for different applications may help improve the accuracy of the algorithm"
   ]
  },
  {
   "cell_type": "code",
   "execution_count": 33,
   "id": "220da84d",
   "metadata": {},
   "outputs": [
    {
     "data": {
      "image/png": "[encoded data removed]",
      "text/plain": [
       "<Figure size 432x288 with 1 Axes>"
      ]
     },
     "metadata": {
      "needs_background": "light"
     },
     "output_type": "display_data"
    }
   ],
   "source": [
    "knn_scores = []\n",
    "for k in range(1,20):\n",
    "    knn_classifier = KNeighborsClassifier(n_neighbors = k).fit(x_train,y_train)\n",
    "    knn_scores.append(knn_classifier.score(x_test,y_test))\n",
    "\n",
    "plt.plot([k for k in range(1,20)], knn_scores, color=\"blue\")\n",
    "for i in range(1,20):\n",
    "    plt.text(i, round(knn_scores[i-1],2), round(knn_scores[i-1],3))\n",
    "    \n",
    "plt.xticks([i for i in range(1,20)])\n",
    "plt.legend(('Scores ', '+/- 1xstd','+/- 3xstd'))\n",
    "plt.ylabel('Scores ')\n",
    "plt.xlabel('Number of Neighbors (K)')\n",
    "plt.tight_layout()\n",
    "plt.show()"
   ]
  },
  {
   "cell_type": "code",
   "execution_count": 13,
   "id": "8b008a17",
   "metadata": {},
   "outputs": [
    {
     "name": "stdout",
     "output_type": "stream",
     "text": [
      "Train Score: 0.807312252964427 \n",
      " Test Score: 0.8589285714285715\n",
      "Total Test Accuracy: 0.82\n",
      "              precision    recall  f1-score   support\n",
      "\n",
      "           0       0.82      0.77      0.79        35\n",
      "           1       0.81      0.85      0.83        41\n",
      "\n",
      "    accuracy                           0.82        76\n",
      "   macro avg       0.82      0.81      0.81        76\n",
      "weighted avg       0.82      0.82      0.82        76\n",
      "\n"
     ]
    },
    {
     "data": {
      "image/png": "[encoded data removed]",
      "text/plain": [
       "<Figure size 432x288 with 2 Axes>"
      ]
     },
     "metadata": {
      "needs_background": "light"
     },
     "output_type": "display_data"
    }
   ],
   "source": [
    "from sklearn.model_selection import cross_val_score\n",
    "knn_classifier = KNeighborsClassifier(n_neighbors=10).fit(x_train,y_train)\n",
    "y_pred_best = knn_classifier.predict(x_test)\n",
    "\n",
    "Score_Train=cross_val_score(knn_classifier,x_train,y_train,cv=10)\n",
    "Score_Test=cross_val_score(knn_classifier,x_test,y_test,cv=10)\n",
    "print(\"Train Score:\", Score_Train.mean(),\"\\n Test Score:\", Score_Test.mean())\n",
    "\n",
    "accuracy = metrics.accuracy_score(y_test, y_pred_best)\n",
    "print('Total Test Accuracy: {:.2f}'.format(accuracy))\n",
    "\n",
    "cm = confusion_matrix(y_test, y_pred_best)\n",
    "cm\n",
    "\n",
    "sns.heatmap(cm,annot=True,cmap='winter',linewidths=0.3,\n",
    "linecolor='black',annot_kws={\"size\":20})\n",
    "\n",
    "print (classification_report(y_test, y_pred_best))"
   ]
  },
  {
   "cell_type": "code",
   "execution_count": null,
   "id": "34019163",
   "metadata": {},
   "outputs": [],
   "source": []
  }
 ],
 "metadata": {
  "kernelspec": {
   "display_name": "Python 3 (ipykernel)",
   "language": "python",
   "name": "python3"
  },
  "language_info": {
   "codemirror_mode": {
    "name": "ipython",
    "version": 3
   },
   "file_extension": ".py",
   "mimetype": "text/x-python",
   "name": "python",
   "nbconvert_exporter": "python",
   "pygments_lexer": "ipython3",
   "version": "3.9.10"
  }
 },
 "nbformat": 4,
 "nbformat_minor": 5
}
